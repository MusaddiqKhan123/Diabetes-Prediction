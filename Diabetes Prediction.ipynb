{
 "cells": [
  {
   "cell_type": "markdown",
   "id": "b6a2bdbe",
   "metadata": {},
   "source": [
    "# Businesscase:-to predict whether a patient will have diabetes or not??\n",
    "\n",
    "### Binary classification"
   ]
  },
  {
   "cell_type": "code",
   "execution_count": 5,
   "id": "1bfe16d3",
   "metadata": {},
   "outputs": [],
   "source": [
    "#Let's start with importing necessary libraries\n",
    "\n",
    "import pandas as pd# reading the file other necessary operation  \n",
    "import numpy as np# from that we can get mean median and other operation\n",
    "from sklearn.preprocessing import StandardScaler # for scaling the data \n",
    "from sklearn.linear_model  import LogisticRegression # importing logoistic regression\n",
    "from sklearn.model_selection import train_test_split # for splitting the data in to trainning and testing \n",
    "\n",
    "from sklearn.metrics import accuracy_score, confusion_matrix, roc_curve, roc_auc_score #metric to check model performance\n",
    "import matplotlib.pyplot as plt # visualization library , analysis of data \n",
    "import seaborn as sns # visualization library , analysis of data\n",
    "import warnings\n",
    "warnings.filterwarnings('ignore') # to ignore warnings"
   ]
  },
  {
   "cell_type": "code",
   "execution_count": 4,
   "id": "85902671",
   "metadata": {},
   "outputs": [
    {
     "data": {
      "text/html": [
       "<div>\n",
       "<style scoped>\n",
       "    .dataframe tbody tr th:only-of-type {\n",
       "        vertical-align: middle;\n",
       "    }\n",
       "\n",
       "    .dataframe tbody tr th {\n",
       "        vertical-align: top;\n",
       "    }\n",
       "\n",
       "    .dataframe thead th {\n",
       "        text-align: right;\n",
       "    }\n",
       "</style>\n",
       "<table border=\"1\" class=\"dataframe\">\n",
       "  <thead>\n",
       "    <tr style=\"text-align: right;\">\n",
       "      <th></th>\n",
       "      <th>Pregnancies</th>\n",
       "      <th>Glucose</th>\n",
       "      <th>BloodPressure</th>\n",
       "      <th>SkinThickness</th>\n",
       "      <th>Insulin</th>\n",
       "      <th>BMI</th>\n",
       "      <th>DiabetesPedigreeFunction</th>\n",
       "      <th>Age</th>\n",
       "      <th>Outcome</th>\n",
       "    </tr>\n",
       "  </thead>\n",
       "  <tbody>\n",
       "    <tr>\n",
       "      <th>0</th>\n",
       "      <td>6</td>\n",
       "      <td>148</td>\n",
       "      <td>72</td>\n",
       "      <td>35</td>\n",
       "      <td>0</td>\n",
       "      <td>33.6</td>\n",
       "      <td>0.627</td>\n",
       "      <td>50</td>\n",
       "      <td>1</td>\n",
       "    </tr>\n",
       "    <tr>\n",
       "      <th>1</th>\n",
       "      <td>1</td>\n",
       "      <td>85</td>\n",
       "      <td>66</td>\n",
       "      <td>29</td>\n",
       "      <td>0</td>\n",
       "      <td>26.6</td>\n",
       "      <td>0.351</td>\n",
       "      <td>31</td>\n",
       "      <td>0</td>\n",
       "    </tr>\n",
       "    <tr>\n",
       "      <th>2</th>\n",
       "      <td>8</td>\n",
       "      <td>183</td>\n",
       "      <td>64</td>\n",
       "      <td>0</td>\n",
       "      <td>0</td>\n",
       "      <td>23.3</td>\n",
       "      <td>0.672</td>\n",
       "      <td>32</td>\n",
       "      <td>1</td>\n",
       "    </tr>\n",
       "    <tr>\n",
       "      <th>3</th>\n",
       "      <td>1</td>\n",
       "      <td>89</td>\n",
       "      <td>66</td>\n",
       "      <td>23</td>\n",
       "      <td>94</td>\n",
       "      <td>28.1</td>\n",
       "      <td>0.167</td>\n",
       "      <td>21</td>\n",
       "      <td>0</td>\n",
       "    </tr>\n",
       "    <tr>\n",
       "      <th>4</th>\n",
       "      <td>0</td>\n",
       "      <td>137</td>\n",
       "      <td>40</td>\n",
       "      <td>35</td>\n",
       "      <td>168</td>\n",
       "      <td>43.1</td>\n",
       "      <td>2.288</td>\n",
       "      <td>33</td>\n",
       "      <td>1</td>\n",
       "    </tr>\n",
       "  </tbody>\n",
       "</table>\n",
       "</div>"
      ],
      "text/plain": [
       "   Pregnancies  Glucose  BloodPressure  SkinThickness  Insulin   BMI  \\\n",
       "0            6      148             72             35        0  33.6   \n",
       "1            1       85             66             29        0  26.6   \n",
       "2            8      183             64              0        0  23.3   \n",
       "3            1       89             66             23       94  28.1   \n",
       "4            0      137             40             35      168  43.1   \n",
       "\n",
       "   DiabetesPedigreeFunction  Age  Outcome  \n",
       "0                     0.627   50        1  \n",
       "1                     0.351   31        0  \n",
       "2                     0.672   32        1  \n",
       "3                     0.167   21        0  \n",
       "4                     2.288   33        1  "
      ]
     },
     "execution_count": 4,
     "metadata": {},
     "output_type": "execute_result"
    }
   ],
   "source": [
    "data = pd.read_csv(\"diabetes1.csv\")\n",
    "data.head()"
   ]
  },
  {
   "cell_type": "code",
   "execution_count": null,
   "id": "d4a8904f",
   "metadata": {},
   "outputs": [],
   "source": [
    "data.Outcome.value_counts()"
   ]
  },
  {
   "cell_type": "markdown",
   "id": "b0f4cbf4",
   "metadata": {},
   "source": [
    "# Basic Checks"
   ]
  },
  {
   "cell_type": "code",
   "execution_count": null,
   "id": "249e0763",
   "metadata": {},
   "outputs": [],
   "source": [
    "data.head()#it will give you first  5 rows"
   ]
  },
  {
   "cell_type": "code",
   "execution_count": null,
   "id": "9f7e5a03",
   "metadata": {},
   "outputs": [],
   "source": [
    "data.tail()#it will give you last 5 rows"
   ]
  },
  {
   "cell_type": "code",
   "execution_count": null,
   "id": "cb996356",
   "metadata": {},
   "outputs": [],
   "source": [
    "data.info()# To check  data type and  null value of all columns"
   ]
  },
  {
   "cell_type": "code",
   "execution_count": null,
   "id": "240e0483",
   "metadata": {},
   "outputs": [],
   "source": [
    "data.describe()#used to view some basic statistical details like percentile, mean, std etc."
   ]
  },
  {
   "cell_type": "code",
   "execution_count": null,
   "id": "a947bb6c",
   "metadata": {},
   "outputs": [],
   "source": [
    "data['Pregnancies'].dtype # Checking the data type of particular column"
   ]
  },
  {
   "cell_type": "code",
   "execution_count": null,
   "id": "c1079949",
   "metadata": {},
   "outputs": [],
   "source": [
    "data['BloodPressure'].dtype== 'int64' # checking whether a particular column has int32 datatype or not"
   ]
  },
  {
   "cell_type": "code",
   "execution_count": null,
   "id": "47e6356c",
   "metadata": {},
   "outputs": [],
   "source": [
    "## Task:-Do the all feature analysis with the help of google.(Healthline)"
   ]
  },
  {
   "cell_type": "markdown",
   "id": "cdc70229",
   "metadata": {},
   "source": [
    "# Exploratory Data Analysis\n",
    "\n",
    "### Univariate Analysis"
   ]
  },
  {
   "cell_type": "code",
   "execution_count": null,
   "id": "04f27942",
   "metadata": {},
   "outputs": [],
   "source": [
    "!pip install sweetviz"
   ]
  },
  {
   "cell_type": "code",
   "execution_count": null,
   "id": "67d66935",
   "metadata": {},
   "outputs": [],
   "source": [
    "# In-depth EDA (target analysis, comparison, feature analysis, correlation) \n",
    "\n",
    "# importing the library\n",
    "import sweetviz as sv #  library for univariant analysis\n",
    "\n",
    "# analyzing the dataset\n",
    "my_report = sv.analyze(data)## pass the original dataframe\n",
    "\n",
    "#display the report\n",
    "my_report.show_html() # Default arguments will generate to \"SWEETVIZ_REPORT.html\""
   ]
  },
  {
   "cell_type": "code",
   "execution_count": null,
   "id": "cc592590",
   "metadata": {},
   "outputs": [],
   "source": [
    "# let's see how data is distributed for every column\n",
    "\n",
    "# figsize defines canvas size, gives figure dimension (width, height) in inches\n",
    "plt.figure(figsize=(20,25), facecolor='white')  # plt.figure()\n",
    "\n",
    "\n",
    "plotnumber = 1    # maintian count for graph\n",
    "\n",
    "for column in data:\n",
    "    if plotnumber<=9 :                      # as there are 9 columns in the data\n",
    "        ax = plt.subplot(3,3,plotnumber)    # plotting 9 graphs (3-rows,3-columns) ,plotnumber is for count \n",
    "        sns.distplot(data[column])          #plotting dist plot to know distribution\n",
    "        plt.xlabel(column,fontsize=20)\n",
    "        \n",
    "    plotnumber += 1   # plotnumber = plotnumber + 1\n",
    "plt.show()"
   ]
  },
  {
   "cell_type": "code",
   "execution_count": null,
   "id": "088c010f",
   "metadata": {
    "scrolled": true
   },
   "outputs": [],
   "source": [
    "plt.figure(figsize=(20,25), facecolor='white')# defining  canvas size\n",
    "plotnumber = 1 # initializing plotnumber variable to 1 it will maintain the count of how many graph is going to plot in canvas \n",
    "\n",
    "for column in data.columns:               # iteration of columns / acessing the columns from  dataset \n",
    "    if plotnumber<=9 :                    # as there are 9 columns in the data\n",
    "        ax = plt.subplot(3,3,plotnumber)  # plotting 9 graphs (3-rows,3-columns) ,plotnumber is for count  \n",
    "        sns.histplot(x=data[column],hue=data.Outcome) ## it give frequency hue =value counts\n",
    "        plt.xlabel(column,fontsize=20)    #assigning name to x-axis and \"name\" font size is 20\n",
    "        plt.ylabel('Outcome',fontsize=20) #assigning name to y-axis and \"name\" font size is 20\n",
    "    plotnumber+=1                         # increment of plotnumber \n",
    "plt.show()                                # to show graph"
   ]
  },
  {
   "cell_type": "markdown",
   "id": "1b06b7f2",
   "metadata": {},
   "source": [
    "# Data preprocessing"
   ]
  },
  {
   "cell_type": "code",
   "execution_count": null,
   "id": "25413c80",
   "metadata": {},
   "outputs": [],
   "source": [
    "## get the missing values\n",
    "data.isnull().sum()"
   ]
  },
  {
   "cell_type": "markdown",
   "id": "19585d51",
   "metadata": {},
   "source": [
    "#### It seems that there are no missing values in our data. Great, let's see the distribution of data:"
   ]
  },
  {
   "cell_type": "markdown",
   "id": "b49739cc",
   "metadata": {},
   "source": [
    "We can see there is some skewness in the data, let's deal with data.\n",
    "\n",
    "Also, we can see there few data for columns Glucose, Insulin, skin thickness, BMI and Blood Pressure which have value as 0. That's not possible. You can do a quick search to see that one cannot have 0 values for these. Let's deal with that. we can either remove such data or simply replace it with their respective mean values. Let's do the latter."
   ]
  },
  {
   "cell_type": "code",
   "execution_count": null,
   "id": "07e0eefb",
   "metadata": {},
   "outputs": [],
   "source": [
    "data.loc[data['BMI']==0]  # how many 0 entry in the bmi column "
   ]
  },
  {
   "cell_type": "code",
   "execution_count": null,
   "id": "b7250ca4",
   "metadata": {},
   "outputs": [],
   "source": [
    "data['BMI'].mean()  #bmi column mean"
   ]
  },
  {
   "cell_type": "code",
   "execution_count": null,
   "id": "9c84a2b0",
   "metadata": {},
   "outputs": [],
   "source": [
    "# replacing zero values with the mean of the column\n",
    "data['BMI'] = data['BMI'].replace(0,data['BMI'].mean())#replacing 0 with mean of the bmi \n",
    "data['BloodPressure'] = data['BloodPressure'].replace(0,data['BloodPressure'].mean())#replacing 0 with mean of the Bloodpressure \n",
    "data['Glucose'] = data['Glucose'].replace(0,data['Glucose'].mean())##replacing 0 with mean of the Glucose\n",
    "data['Insulin'] = data['Insulin'].replace(0,data['Insulin'].mean())#replacing 0 with mean of the Insulin\n",
    "data['SkinThickness'] = data['SkinThickness'].replace(0,data['SkinThickness'].mean())#replacing 0 with mean of the Skinthickness"
   ]
  },
  {
   "cell_type": "code",
   "execution_count": null,
   "id": "bb1292ac",
   "metadata": {},
   "outputs": [],
   "source": [
    "# let's see how data is distributed for every column\n",
    "plt.figure(figsize=(20,25), facecolor='white')\n",
    "plotnumber = 1\n",
    "\n",
    "for column in data:\n",
    "    if plotnumber<=9 :\n",
    "        ax = plt.subplot(3,3,plotnumber)\n",
    "        sns.histplot(data[column])\n",
    "        plt.xlabel(column,fontsize=20)\n",
    "        \n",
    "    plotnumber+=1\n",
    "plt.show()"
   ]
  },
  {
   "cell_type": "markdown",
   "id": "cec4017a",
   "metadata": {},
   "source": [
    "The data looks much better now than before. We will start our analysis with this data now as we don't want to lose important information.\n",
    "If our model doesn't work with accuracy, we will come back for more preprocessing.\n"
   ]
  },
  {
   "cell_type": "markdown",
   "id": "64208632",
   "metadata": {},
   "source": [
    "# Feature Selection"
   ]
  },
  {
   "cell_type": "code",
   "execution_count": 6,
   "id": "903a226a",
   "metadata": {},
   "outputs": [
    {
     "data": {
      "text/plain": [
       "<AxesSubplot:>"
      ]
     },
     "execution_count": 6,
     "metadata": {},
     "output_type": "execute_result"
    },
    {
     "data": {
      "image/png": "[encoded data removed]",
      "text/plain": [
       "<Figure size 432x288 with 2 Axes>"
      ]
     },
     "metadata": {
      "needs_background": "light"
     },
     "output_type": "display_data"
    }
   ],
   "source": [
    "sns.heatmap(data.drop('Outcome',axis=1).corr())# checking for correlation\n",
    "## No correlated features are present"
   ]
  },
  {
   "cell_type": "code",
   "execution_count": 7,
   "id": "b54e0884",
   "metadata": {},
   "outputs": [
    {
     "data": {
      "text/plain": [
       "0"
      ]
     },
     "execution_count": 7,
     "metadata": {},
     "output_type": "execute_result"
    }
   ],
   "source": [
    "## checking the duplicate rows\n",
    "data.duplicated().sum()"
   ]
  },
  {
   "cell_type": "code",
   "execution_count": 8,
   "id": "d1012581",
   "metadata": {},
   "outputs": [
    {
     "data": {
      "text/html": [
       "<div>\n",
       "<style scoped>\n",
       "    .dataframe tbody tr th:only-of-type {\n",
       "        vertical-align: middle;\n",
       "    }\n",
       "\n",
       "    .dataframe tbody tr th {\n",
       "        vertical-align: top;\n",
       "    }\n",
       "\n",
       "    .dataframe thead th {\n",
       "        text-align: right;\n",
       "    }\n",
       "</style>\n",
       "<table border=\"1\" class=\"dataframe\">\n",
       "  <thead>\n",
       "    <tr style=\"text-align: right;\">\n",
       "      <th></th>\n",
       "      <th>Pregnancies</th>\n",
       "      <th>Glucose</th>\n",
       "      <th>BloodPressure</th>\n",
       "      <th>SkinThickness</th>\n",
       "      <th>Insulin</th>\n",
       "      <th>BMI</th>\n",
       "      <th>DiabetesPedigreeFunction</th>\n",
       "      <th>Age</th>\n",
       "      <th>Outcome</th>\n",
       "    </tr>\n",
       "  </thead>\n",
       "  <tbody>\n",
       "    <tr>\n",
       "      <th>count</th>\n",
       "      <td>768.000000</td>\n",
       "      <td>768.000000</td>\n",
       "      <td>768.000000</td>\n",
       "      <td>768.000000</td>\n",
       "      <td>768.000000</td>\n",
       "      <td>768.000000</td>\n",
       "      <td>768.000000</td>\n",
       "      <td>768.000000</td>\n",
       "      <td>768.000000</td>\n",
       "    </tr>\n",
       "    <tr>\n",
       "      <th>mean</th>\n",
       "      <td>3.845052</td>\n",
       "      <td>120.894531</td>\n",
       "      <td>69.105469</td>\n",
       "      <td>20.536458</td>\n",
       "      <td>79.799479</td>\n",
       "      <td>31.992578</td>\n",
       "      <td>0.471876</td>\n",
       "      <td>33.240885</td>\n",
       "      <td>0.348958</td>\n",
       "    </tr>\n",
       "    <tr>\n",
       "      <th>std</th>\n",
       "      <td>3.369578</td>\n",
       "      <td>31.972618</td>\n",
       "      <td>19.355807</td>\n",
       "      <td>15.952218</td>\n",
       "      <td>115.244002</td>\n",
       "      <td>7.884160</td>\n",
       "      <td>0.331329</td>\n",
       "      <td>11.760232</td>\n",
       "      <td>0.476951</td>\n",
       "    </tr>\n",
       "    <tr>\n",
       "      <th>min</th>\n",
       "      <td>0.000000</td>\n",
       "      <td>0.000000</td>\n",
       "      <td>0.000000</td>\n",
       "      <td>0.000000</td>\n",
       "      <td>0.000000</td>\n",
       "      <td>0.000000</td>\n",
       "      <td>0.078000</td>\n",
       "      <td>21.000000</td>\n",
       "      <td>0.000000</td>\n",
       "    </tr>\n",
       "    <tr>\n",
       "      <th>25%</th>\n",
       "      <td>1.000000</td>\n",
       "      <td>99.000000</td>\n",
       "      <td>62.000000</td>\n",
       "      <td>0.000000</td>\n",
       "      <td>0.000000</td>\n",
       "      <td>27.300000</td>\n",
       "      <td>0.243750</td>\n",
       "      <td>24.000000</td>\n",
       "      <td>0.000000</td>\n",
       "    </tr>\n",
       "    <tr>\n",
       "      <th>50%</th>\n",
       "      <td>3.000000</td>\n",
       "      <td>117.000000</td>\n",
       "      <td>72.000000</td>\n",
       "      <td>23.000000</td>\n",
       "      <td>30.500000</td>\n",
       "      <td>32.000000</td>\n",
       "      <td>0.372500</td>\n",
       "      <td>29.000000</td>\n",
       "      <td>0.000000</td>\n",
       "    </tr>\n",
       "    <tr>\n",
       "      <th>75%</th>\n",
       "      <td>6.000000</td>\n",
       "      <td>140.250000</td>\n",
       "      <td>80.000000</td>\n",
       "      <td>32.000000</td>\n",
       "      <td>127.250000</td>\n",
       "      <td>36.600000</td>\n",
       "      <td>0.626250</td>\n",
       "      <td>41.000000</td>\n",
       "      <td>1.000000</td>\n",
       "    </tr>\n",
       "    <tr>\n",
       "      <th>max</th>\n",
       "      <td>17.000000</td>\n",
       "      <td>199.000000</td>\n",
       "      <td>122.000000</td>\n",
       "      <td>99.000000</td>\n",
       "      <td>846.000000</td>\n",
       "      <td>67.100000</td>\n",
       "      <td>2.420000</td>\n",
       "      <td>81.000000</td>\n",
       "      <td>1.000000</td>\n",
       "    </tr>\n",
       "  </tbody>\n",
       "</table>\n",
       "</div>"
      ],
      "text/plain": [
       "       Pregnancies     Glucose  BloodPressure  SkinThickness     Insulin  \\\n",
       "count   768.000000  768.000000     768.000000     768.000000  768.000000   \n",
       "mean      3.845052  120.894531      69.105469      20.536458   79.799479   \n",
       "std       3.369578   31.972618      19.355807      15.952218  115.244002   \n",
       "min       0.000000    0.000000       0.000000       0.000000    0.000000   \n",
       "25%       1.000000   99.000000      62.000000       0.000000    0.000000   \n",
       "50%       3.000000  117.000000      72.000000      23.000000   30.500000   \n",
       "75%       6.000000  140.250000      80.000000      32.000000  127.250000   \n",
       "max      17.000000  199.000000     122.000000      99.000000  846.000000   \n",
       "\n",
       "              BMI  DiabetesPedigreeFunction         Age     Outcome  \n",
       "count  768.000000                768.000000  768.000000  768.000000  \n",
       "mean    31.992578                  0.471876   33.240885    0.348958  \n",
       "std      7.884160                  0.331329   11.760232    0.476951  \n",
       "min      0.000000                  0.078000   21.000000    0.000000  \n",
       "25%     27.300000                  0.243750   24.000000    0.000000  \n",
       "50%     32.000000                  0.372500   29.000000    0.000000  \n",
       "75%     36.600000                  0.626250   41.000000    1.000000  \n",
       "max     67.100000                  2.420000   81.000000    1.000000  "
      ]
     },
     "execution_count": 8,
     "metadata": {},
     "output_type": "execute_result"
    }
   ],
   "source": [
    "## checking the constant features\n",
    "data.describe()\n",
    "## the standard deviation is not zero for any feature,so there are no constant features in the dataset."
   ]
  },
  {
   "cell_type": "markdown",
   "id": "1891b45d",
   "metadata": {},
   "source": [
    "# Model Creation"
   ]
  },
  {
   "cell_type": "code",
   "execution_count": 9,
   "id": "3d34410e",
   "metadata": {},
   "outputs": [],
   "source": [
    "## Defining X and y and creating dependent and independent variables\n",
    "X = data.drop(columns = ['Outcome']) ## independent variable\n",
    "y = data['Outcome'] ## Dependent or target variable\n"
   ]
  },
  {
   "cell_type": "code",
   "execution_count": 11,
   "id": "06dd9629",
   "metadata": {},
   "outputs": [
    {
     "data": {
      "text/html": [
       "<div>\n",
       "<style scoped>\n",
       "    .dataframe tbody tr th:only-of-type {\n",
       "        vertical-align: middle;\n",
       "    }\n",
       "\n",
       "    .dataframe tbody tr th {\n",
       "        vertical-align: top;\n",
       "    }\n",
       "\n",
       "    .dataframe thead th {\n",
       "        text-align: right;\n",
       "    }\n",
       "</style>\n",
       "<table border=\"1\" class=\"dataframe\">\n",
       "  <thead>\n",
       "    <tr style=\"text-align: right;\">\n",
       "      <th></th>\n",
       "      <th>Pregnancies</th>\n",
       "      <th>Glucose</th>\n",
       "      <th>BloodPressure</th>\n",
       "      <th>SkinThickness</th>\n",
       "      <th>Insulin</th>\n",
       "      <th>BMI</th>\n",
       "      <th>DiabetesPedigreeFunction</th>\n",
       "      <th>Age</th>\n",
       "    </tr>\n",
       "  </thead>\n",
       "  <tbody>\n",
       "    <tr>\n",
       "      <th>0</th>\n",
       "      <td>6</td>\n",
       "      <td>148</td>\n",
       "      <td>72</td>\n",
       "      <td>35</td>\n",
       "      <td>0</td>\n",
       "      <td>33.6</td>\n",
       "      <td>0.627</td>\n",
       "      <td>50</td>\n",
       "    </tr>\n",
       "    <tr>\n",
       "      <th>1</th>\n",
       "      <td>1</td>\n",
       "      <td>85</td>\n",
       "      <td>66</td>\n",
       "      <td>29</td>\n",
       "      <td>0</td>\n",
       "      <td>26.6</td>\n",
       "      <td>0.351</td>\n",
       "      <td>31</td>\n",
       "    </tr>\n",
       "    <tr>\n",
       "      <th>2</th>\n",
       "      <td>8</td>\n",
       "      <td>183</td>\n",
       "      <td>64</td>\n",
       "      <td>0</td>\n",
       "      <td>0</td>\n",
       "      <td>23.3</td>\n",
       "      <td>0.672</td>\n",
       "      <td>32</td>\n",
       "    </tr>\n",
       "    <tr>\n",
       "      <th>3</th>\n",
       "      <td>1</td>\n",
       "      <td>89</td>\n",
       "      <td>66</td>\n",
       "      <td>23</td>\n",
       "      <td>94</td>\n",
       "      <td>28.1</td>\n",
       "      <td>0.167</td>\n",
       "      <td>21</td>\n",
       "    </tr>\n",
       "    <tr>\n",
       "      <th>4</th>\n",
       "      <td>0</td>\n",
       "      <td>137</td>\n",
       "      <td>40</td>\n",
       "      <td>35</td>\n",
       "      <td>168</td>\n",
       "      <td>43.1</td>\n",
       "      <td>2.288</td>\n",
       "      <td>33</td>\n",
       "    </tr>\n",
       "    <tr>\n",
       "      <th>...</th>\n",
       "      <td>...</td>\n",
       "      <td>...</td>\n",
       "      <td>...</td>\n",
       "      <td>...</td>\n",
       "      <td>...</td>\n",
       "      <td>...</td>\n",
       "      <td>...</td>\n",
       "      <td>...</td>\n",
       "    </tr>\n",
       "    <tr>\n",
       "      <th>763</th>\n",
       "      <td>10</td>\n",
       "      <td>101</td>\n",
       "      <td>76</td>\n",
       "      <td>48</td>\n",
       "      <td>180</td>\n",
       "      <td>32.9</td>\n",
       "      <td>0.171</td>\n",
       "      <td>63</td>\n",
       "    </tr>\n",
       "    <tr>\n",
       "      <th>764</th>\n",
       "      <td>2</td>\n",
       "      <td>122</td>\n",
       "      <td>70</td>\n",
       "      <td>27</td>\n",
       "      <td>0</td>\n",
       "      <td>36.8</td>\n",
       "      <td>0.340</td>\n",
       "      <td>27</td>\n",
       "    </tr>\n",
       "    <tr>\n",
       "      <th>765</th>\n",
       "      <td>5</td>\n",
       "      <td>121</td>\n",
       "      <td>72</td>\n",
       "      <td>23</td>\n",
       "      <td>112</td>\n",
       "      <td>26.2</td>\n",
       "      <td>0.245</td>\n",
       "      <td>30</td>\n",
       "    </tr>\n",
       "    <tr>\n",
       "      <th>766</th>\n",
       "      <td>1</td>\n",
       "      <td>126</td>\n",
       "      <td>60</td>\n",
       "      <td>0</td>\n",
       "      <td>0</td>\n",
       "      <td>30.1</td>\n",
       "      <td>0.349</td>\n",
       "      <td>47</td>\n",
       "    </tr>\n",
       "    <tr>\n",
       "      <th>767</th>\n",
       "      <td>1</td>\n",
       "      <td>93</td>\n",
       "      <td>70</td>\n",
       "      <td>31</td>\n",
       "      <td>0</td>\n",
       "      <td>30.4</td>\n",
       "      <td>0.315</td>\n",
       "      <td>23</td>\n",
       "    </tr>\n",
       "  </tbody>\n",
       "</table>\n",
       "<p>768 rows × 8 columns</p>\n",
       "</div>"
      ],
      "text/plain": [
       "     Pregnancies  Glucose  BloodPressure  SkinThickness  Insulin   BMI  \\\n",
       "0              6      148             72             35        0  33.6   \n",
       "1              1       85             66             29        0  26.6   \n",
       "2              8      183             64              0        0  23.3   \n",
       "3              1       89             66             23       94  28.1   \n",
       "4              0      137             40             35      168  43.1   \n",
       "..           ...      ...            ...            ...      ...   ...   \n",
       "763           10      101             76             48      180  32.9   \n",
       "764            2      122             70             27        0  36.8   \n",
       "765            5      121             72             23      112  26.2   \n",
       "766            1      126             60              0        0  30.1   \n",
       "767            1       93             70             31        0  30.4   \n",
       "\n",
       "     DiabetesPedigreeFunction  Age  \n",
       "0                       0.627   50  \n",
       "1                       0.351   31  \n",
       "2                       0.672   32  \n",
       "3                       0.167   21  \n",
       "4                       2.288   33  \n",
       "..                        ...  ...  \n",
       "763                     0.171   63  \n",
       "764                     0.340   27  \n",
       "765                     0.245   30  \n",
       "766                     0.349   47  \n",
       "767                     0.315   23  \n",
       "\n",
       "[768 rows x 8 columns]"
      ]
     },
     "execution_count": 11,
     "metadata": {},
     "output_type": "execute_result"
    }
   ],
   "source": [
    "X"
   ]
  },
  {
   "cell_type": "code",
   "execution_count": 12,
   "id": "dd7fcddb",
   "metadata": {},
   "outputs": [],
   "source": [
    "## scaling the data as all features seems to be near to normal distribution\n",
    "from sklearn.preprocessing import StandardScaler \n",
    "scalar = StandardScaler()           ## object creation\n",
    "X_scaled = scalar.fit_transform(X)  # scaling independent variables"
   ]
  },
  {
   "cell_type": "code",
   "execution_count": 13,
   "id": "9de614f8",
   "metadata": {},
   "outputs": [
    {
     "data": {
      "text/plain": [
       "array([[ 0.63994726,  0.84832379,  0.14964075, ...,  0.20401277,\n",
       "         0.46849198,  1.4259954 ],\n",
       "       [-0.84488505, -1.12339636, -0.16054575, ..., -0.68442195,\n",
       "        -0.36506078, -0.19067191],\n",
       "       [ 1.23388019,  1.94372388, -0.26394125, ..., -1.10325546,\n",
       "         0.60439732, -0.10558415],\n",
       "       ...,\n",
       "       [ 0.3429808 ,  0.00330087,  0.14964075, ..., -0.73518964,\n",
       "        -0.68519336, -0.27575966],\n",
       "       [-0.84488505,  0.1597866 , -0.47073225, ..., -0.24020459,\n",
       "        -0.37110101,  1.17073215],\n",
       "       [-0.84488505, -0.8730192 ,  0.04624525, ..., -0.20212881,\n",
       "        -0.47378505, -0.87137393]])"
      ]
     },
     "execution_count": 13,
     "metadata": {},
     "output_type": "execute_result"
    }
   ],
   "source": [
    "X_scaled #scaled data"
   ]
  },
  {
   "cell_type": "code",
   "execution_count": 14,
   "id": "6fb41dd7",
   "metadata": {},
   "outputs": [],
   "source": [
    "## splitting training and testing data\n",
    "from sklearn.model_selection import train_test_split\n",
    "x_train,x_test,y_train,y_test = train_test_split(X_scaled,y, test_size= 0.25,random_state = 355)#splitting data into train and test"
   ]
  },
  {
   "cell_type": "code",
   "execution_count": 15,
   "id": "84cb2e14",
   "metadata": {},
   "outputs": [
    {
     "data": {
      "text/plain": [
       "LogisticRegression()"
      ]
     },
     "execution_count": 15,
     "metadata": {},
     "output_type": "execute_result"
    }
   ],
   "source": [
    "##Model creation\n",
    "from sklearn.linear_model import LogisticRegression\n",
    "log_reg = LogisticRegression()      #object creation of logistic regression\n",
    "    \n",
    "log_reg.fit(x_train,y_train)        #training model with training data"
   ]
  },
  {
   "cell_type": "code",
   "execution_count": 16,
   "id": "4238f0df",
   "metadata": {},
   "outputs": [],
   "source": [
    "y_train_pre=log_reg.predict(x_train)     # predicting y_train"
   ]
  },
  {
   "cell_type": "markdown",
   "id": "01d1ed8f",
   "metadata": {},
   "source": [
    "- Let's see how well our model performs on the test data set."
   ]
  },
  {
   "cell_type": "code",
   "execution_count": 17,
   "id": "7ca73407",
   "metadata": {},
   "outputs": [],
   "source": [
    "y_pred = log_reg.predict(x_test) # predicting y_test"
   ]
  },
  {
   "cell_type": "code",
   "execution_count": 18,
   "id": "bfa5a94e",
   "metadata": {},
   "outputs": [
    {
     "data": {
      "text/plain": [
       "(576,)"
      ]
     },
     "execution_count": 18,
     "metadata": {},
     "output_type": "execute_result"
    }
   ],
   "source": [
    "y_train.shape # to know the shape of y_train (rows and columns)"
   ]
  },
  {
   "cell_type": "code",
   "execution_count": 19,
   "id": "cd36a34f",
   "metadata": {},
   "outputs": [
    {
     "data": {
      "text/plain": [
       "(192,)"
      ]
     },
     "execution_count": 19,
     "metadata": {},
     "output_type": "execute_result"
    }
   ],
   "source": [
    "y_pred.shape # to know the shape of y_pred (rows and columns )"
   ]
  },
  {
   "cell_type": "code",
   "execution_count": 20,
   "id": "410edd7d",
   "metadata": {},
   "outputs": [],
   "source": [
    "# Evaluating the model\n",
    "\n",
    "from sklearn.metrics import accuracy_score,auc, confusion_matrix,precision_score,recall_score,f1_score,classification_report"
   ]
  },
  {
   "cell_type": "code",
   "execution_count": 21,
   "id": "35a198a3",
   "metadata": {},
   "outputs": [
    {
     "data": {
      "text/plain": [
       "0.7829861111111112"
      ]
     },
     "execution_count": 21,
     "metadata": {},
     "output_type": "execute_result"
    }
   ],
   "source": [
    "## calculating accuracy for training set\n",
    "accuracy = accuracy_score(y_train,y_train_pre)# model traning accuracy  ... true positive, true negative\n",
    "accuracy"
   ]
  },
  {
   "cell_type": "code",
   "execution_count": 22,
   "id": "f3f2b970",
   "metadata": {},
   "outputs": [
    {
     "data": {
      "text/plain": [
       "0.765625"
      ]
     },
     "execution_count": 22,
     "metadata": {},
     "output_type": "execute_result"
    }
   ],
   "source": [
    "accuracy = accuracy_score(y_test,y_pred)# model traning accuracy  \n",
    "accuracy"
   ]
  },
  {
   "cell_type": "markdown",
   "id": "2dcb8881",
   "metadata": {},
   "source": [
    "- Precision: What proportion of positive identifications was actually correct?"
   ]
  },
  {
   "cell_type": "code",
   "execution_count": 23,
   "id": "32a75621",
   "metadata": {},
   "outputs": [
    {
     "data": {
      "text/plain": [
       "0.7115384615384616"
      ]
     },
     "execution_count": 23,
     "metadata": {},
     "output_type": "execute_result"
    }
   ],
   "source": [
    "# Precison\n",
    "Precision = precision_score(y_test,y_pred)# the number of true positive divided by the total number of positive prediction\n",
    "Precision"
   ]
  },
  {
   "cell_type": "markdown",
   "id": "96c10d08",
   "metadata": {},
   "source": [
    "Our model has a precision of 0.7—in other words, out of total predicted positives, 70% are actually positives."
   ]
  },
  {
   "cell_type": "markdown",
   "id": "aafbd52b",
   "metadata": {},
   "source": [
    "- Recall: What proportion of actual positives was identified correctly?"
   ]
  },
  {
   "cell_type": "code",
   "execution_count": 24,
   "id": "bffdc19a",
   "metadata": {},
   "outputs": [
    {
     "data": {
      "text/plain": [
       "0.5522388059701493"
      ]
     },
     "execution_count": 24,
     "metadata": {},
     "output_type": "execute_result"
    }
   ],
   "source": [
    "# Recall (recall varies from 0.0 to 1.0)\n",
    "Recall = recall_score(y_test,y_pred)# the total number of positive results how many positives were correctly predicted by the model.\n",
    "Recall"
   ]
  },
  {
   "cell_type": "markdown",
   "id": "6ad3444a",
   "metadata": {},
   "source": [
    "Our model has a recall of 0.52—in other words, out of total actual positive values, model has predicted positives is only 52%"
   ]
  },
  {
   "cell_type": "code",
   "execution_count": 25,
   "id": "b67d18a7",
   "metadata": {},
   "outputs": [
    {
     "data": {
      "text/plain": [
       "0.6218487394957983"
      ]
     },
     "execution_count": 25,
     "metadata": {},
     "output_type": "execute_result"
    }
   ],
   "source": [
    "# F1 Score\n",
    "F1_Score = f1_score(y_test,y_pred)# when precision and recall both are important\n",
    "F1_Score"
   ]
  },
  {
   "cell_type": "code",
   "execution_count": 26,
   "id": "59291e76",
   "metadata": {},
   "outputs": [
    {
     "data": {
      "text/html": [
       "<div>\n",
       "<style scoped>\n",
       "    .dataframe tbody tr th:only-of-type {\n",
       "        vertical-align: middle;\n",
       "    }\n",
       "\n",
       "    .dataframe tbody tr th {\n",
       "        vertical-align: top;\n",
       "    }\n",
       "\n",
       "    .dataframe thead th {\n",
       "        text-align: right;\n",
       "    }\n",
       "</style>\n",
       "<table border=\"1\" class=\"dataframe\">\n",
       "  <thead>\n",
       "    <tr style=\"text-align: right;\">\n",
       "      <th>col_0</th>\n",
       "      <th>0</th>\n",
       "      <th>1</th>\n",
       "    </tr>\n",
       "    <tr>\n",
       "      <th>Outcome</th>\n",
       "      <th></th>\n",
       "      <th></th>\n",
       "    </tr>\n",
       "  </thead>\n",
       "  <tbody>\n",
       "    <tr>\n",
       "      <th>0</th>\n",
       "      <td>110</td>\n",
       "      <td>15</td>\n",
       "    </tr>\n",
       "    <tr>\n",
       "      <th>1</th>\n",
       "      <td>30</td>\n",
       "      <td>37</td>\n",
       "    </tr>\n",
       "  </tbody>\n",
       "</table>\n",
       "</div>"
      ],
      "text/plain": [
       "col_0      0   1\n",
       "Outcome         \n",
       "0        110  15\n",
       "1         30  37"
      ]
     },
     "execution_count": 26,
     "metadata": {},
     "output_type": "execute_result"
    }
   ],
   "source": [
    "##confusion matrix\n",
    "pd.crosstab(y_test, y_pred)"
   ]
  },
  {
   "cell_type": "code",
   "execution_count": 27,
   "id": "c89cd488",
   "metadata": {},
   "outputs": [
    {
     "data": {
      "text/plain": [
       "array([[110,  15],\n",
       "       [ 30,  37]], dtype=int64)"
      ]
     },
     "execution_count": 27,
     "metadata": {},
     "output_type": "execute_result"
    }
   ],
   "source": [
    "confusion_matrix(y_test, y_pred)"
   ]
  },
  {
   "cell_type": "code",
   "execution_count": 28,
   "id": "e5bafdf8",
   "metadata": {},
   "outputs": [
    {
     "name": "stdout",
     "output_type": "stream",
     "text": [
      "              precision    recall  f1-score   support\n",
      "\n",
      "           0       0.79      0.88      0.83       125\n",
      "           1       0.71      0.55      0.62        67\n",
      "\n",
      "    accuracy                           0.77       192\n",
      "   macro avg       0.75      0.72      0.73       192\n",
      "weighted avg       0.76      0.77      0.76       192\n",
      "\n"
     ]
    }
   ],
   "source": [
    "report=classification_report(y_test, y_pred)# it will give precision,recall,f1 scores and accuracy  \n",
    "print(report)"
   ]
  },
  {
   "cell_type": "code",
   "execution_count": 29,
   "id": "fae960f7",
   "metadata": {},
   "outputs": [
    {
     "data": {
      "text/plain": [
       "0.7161194029850746"
      ]
     },
     "execution_count": 29,
     "metadata": {},
     "output_type": "execute_result"
    }
   ],
   "source": [
    "# Area Under Curve\n",
    "auc = roc_auc_score(y_test, y_pred)\n",
    "auc"
   ]
  },
  {
   "cell_type": "markdown",
   "id": "a5a75c4d",
   "metadata": {},
   "source": [
    "# ROC PLOT"
   ]
  },
  {
   "cell_type": "code",
   "execution_count": 30,
   "id": "f4fcddc1",
   "metadata": {},
   "outputs": [
    {
     "data": {
      "text/plain": [
       "array([[0.82969341, 0.17030659],\n",
       "       [0.73415094, 0.26584906],\n",
       "       [0.67327332, 0.32672668],\n",
       "       [0.69428165, 0.30571835],\n",
       "       [0.88878898, 0.11121102],\n",
       "       [0.67020787, 0.32979213],\n",
       "       [0.82096275, 0.17903725],\n",
       "       [0.80408358, 0.19591642],\n",
       "       [0.59470408, 0.40529592],\n",
       "       [0.52778763, 0.47221237],\n",
       "       [0.87865161, 0.12134839],\n",
       "       [0.94885818, 0.05114182],\n",
       "       [0.6676367 , 0.3323633 ],\n",
       "       [0.10393732, 0.89606268],\n",
       "       [0.05648121, 0.94351879],\n",
       "       [0.75815186, 0.24184814],\n",
       "       [0.56271989, 0.43728011],\n",
       "       [0.91458195, 0.08541805],\n",
       "       [0.70855688, 0.29144312],\n",
       "       [0.98479603, 0.01520397],\n",
       "       [0.93602461, 0.06397539],\n",
       "       [0.32082462, 0.67917538],\n",
       "       [0.67196683, 0.32803317],\n",
       "       [0.96881791, 0.03118209],\n",
       "       [0.58542947, 0.41457053],\n",
       "       [0.6251836 , 0.3748164 ],\n",
       "       [0.66485018, 0.33514982],\n",
       "       [0.90517328, 0.09482672],\n",
       "       [0.9002583 , 0.0997417 ],\n",
       "       [0.8965565 , 0.1034435 ],\n",
       "       [0.50915394, 0.49084606],\n",
       "       [0.36332678, 0.63667322],\n",
       "       [0.23269262, 0.76730738],\n",
       "       [0.74974072, 0.25025928],\n",
       "       [0.82092145, 0.17907855],\n",
       "       [0.96087786, 0.03912214],\n",
       "       [0.69486122, 0.30513878],\n",
       "       [0.9246675 , 0.0753325 ],\n",
       "       [0.89545025, 0.10454975],\n",
       "       [0.95477322, 0.04522678],\n",
       "       [0.82983619, 0.17016381],\n",
       "       [0.93238476, 0.06761524],\n",
       "       [0.74861264, 0.25138736],\n",
       "       [0.27405839, 0.72594161],\n",
       "       [0.72996805, 0.27003195],\n",
       "       [0.90891206, 0.09108794],\n",
       "       [0.91236775, 0.08763225],\n",
       "       [0.9891154 , 0.0108846 ],\n",
       "       [0.77508705, 0.22491295],\n",
       "       [0.55199163, 0.44800837],\n",
       "       [0.8167566 , 0.1832434 ],\n",
       "       [0.17690255, 0.82309745],\n",
       "       [0.70181553, 0.29818447],\n",
       "       [0.7862973 , 0.2137027 ],\n",
       "       [0.90840188, 0.09159812],\n",
       "       [0.96454911, 0.03545089],\n",
       "       [0.57197689, 0.42802311],\n",
       "       [0.95656267, 0.04343733],\n",
       "       [0.11745157, 0.88254843],\n",
       "       [0.86712243, 0.13287757],\n",
       "       [0.93660359, 0.06339641],\n",
       "       [0.79833424, 0.20166576],\n",
       "       [0.37406457, 0.62593543],\n",
       "       [0.37511636, 0.62488364],\n",
       "       [0.35736112, 0.64263888],\n",
       "       [0.31338804, 0.68661196],\n",
       "       [0.2210888 , 0.7789112 ],\n",
       "       [0.91398576, 0.08601424],\n",
       "       [0.95843836, 0.04156164],\n",
       "       [0.75209449, 0.24790551],\n",
       "       [0.85391899, 0.14608101],\n",
       "       [0.84776637, 0.15223363],\n",
       "       [0.15657712, 0.84342288],\n",
       "       [0.06878948, 0.93121052],\n",
       "       [0.56642293, 0.43357707],\n",
       "       [0.78196366, 0.21803634],\n",
       "       [0.79438872, 0.20561128],\n",
       "       [0.16369671, 0.83630329],\n",
       "       [0.63695725, 0.36304275],\n",
       "       [0.71676553, 0.28323447],\n",
       "       [0.47400562, 0.52599438],\n",
       "       [0.66900251, 0.33099749],\n",
       "       [0.98319421, 0.01680579],\n",
       "       [0.87845952, 0.12154048],\n",
       "       [0.34305093, 0.65694907],\n",
       "       [0.718234  , 0.281766  ],\n",
       "       [0.70273148, 0.29726852],\n",
       "       [0.24020505, 0.75979495],\n",
       "       [0.88508297, 0.11491703],\n",
       "       [0.91927485, 0.08072515],\n",
       "       [0.02313031, 0.97686969],\n",
       "       [0.87305373, 0.12694627],\n",
       "       [0.90705181, 0.09294819],\n",
       "       [0.84104366, 0.15895634],\n",
       "       [0.86803529, 0.13196471],\n",
       "       [0.42593167, 0.57406833],\n",
       "       [0.84997234, 0.15002766],\n",
       "       [0.49512228, 0.50487772],\n",
       "       [0.72427872, 0.27572128],\n",
       "       [0.65421109, 0.34578891],\n",
       "       [0.92915999, 0.07084001],\n",
       "       [0.17788607, 0.82211393],\n",
       "       [0.86250213, 0.13749787],\n",
       "       [0.91228559, 0.08771441],\n",
       "       [0.95425836, 0.04574164],\n",
       "       [0.48874772, 0.51125228],\n",
       "       [0.77392403, 0.22607597],\n",
       "       [0.8502456 , 0.1497544 ],\n",
       "       [0.30558642, 0.69441358],\n",
       "       [0.93638808, 0.06361192],\n",
       "       [0.41216558, 0.58783442],\n",
       "       [0.69180046, 0.30819954],\n",
       "       [0.93884108, 0.06115892],\n",
       "       [0.32955904, 0.67044096],\n",
       "       [0.04205573, 0.95794427],\n",
       "       [0.27712224, 0.72287776],\n",
       "       [0.83429204, 0.16570796],\n",
       "       [0.59701413, 0.40298587],\n",
       "       [0.67791485, 0.32208515],\n",
       "       [0.78727415, 0.21272585],\n",
       "       [0.53357256, 0.46642744],\n",
       "       [0.56242498, 0.43757502],\n",
       "       [0.95374281, 0.04625719],\n",
       "       [0.80159304, 0.19840696],\n",
       "       [0.11034341, 0.88965659],\n",
       "       [0.0816073 , 0.9183927 ],\n",
       "       [0.92837417, 0.07162583],\n",
       "       [0.18377336, 0.81622664],\n",
       "       [0.55395262, 0.44604738],\n",
       "       [0.82727906, 0.17272094],\n",
       "       [0.32413903, 0.67586097],\n",
       "       [0.68345127, 0.31654873],\n",
       "       [0.9609426 , 0.0390574 ],\n",
       "       [0.92161749, 0.07838251],\n",
       "       [0.98802028, 0.01197972],\n",
       "       [0.88861116, 0.11138884],\n",
       "       [0.04965319, 0.95034681],\n",
       "       [0.85405625, 0.14594375],\n",
       "       [0.75220943, 0.24779057],\n",
       "       [0.83184487, 0.16815513],\n",
       "       [0.71638967, 0.28361033],\n",
       "       [0.94304875, 0.05695125],\n",
       "       [0.87490587, 0.12509413],\n",
       "       [0.2621532 , 0.7378468 ],\n",
       "       [0.87333256, 0.12666744],\n",
       "       [0.42348007, 0.57651993],\n",
       "       [0.65734683, 0.34265317],\n",
       "       [0.83631333, 0.16368667],\n",
       "       [0.45449711, 0.54550289],\n",
       "       [0.62010834, 0.37989166],\n",
       "       [0.16804045, 0.83195955],\n",
       "       [0.31650853, 0.68349147],\n",
       "       [0.07030676, 0.92969324],\n",
       "       [0.81867429, 0.18132571],\n",
       "       [0.13943983, 0.86056017],\n",
       "       [0.18680419, 0.81319581],\n",
       "       [0.73961839, 0.26038161],\n",
       "       [0.40923163, 0.59076837],\n",
       "       [0.89824068, 0.10175932],\n",
       "       [0.93100609, 0.06899391],\n",
       "       [0.22554381, 0.77445619],\n",
       "       [0.98182072, 0.01817928],\n",
       "       [0.30034578, 0.69965422],\n",
       "       [0.76846796, 0.23153204],\n",
       "       [0.87162191, 0.12837809],\n",
       "       [0.83052376, 0.16947624],\n",
       "       [0.20405631, 0.79594369],\n",
       "       [0.19355829, 0.80644171],\n",
       "       [0.55834331, 0.44165669],\n",
       "       [0.23022914, 0.76977086],\n",
       "       [0.8365329 , 0.1634671 ],\n",
       "       [0.96936902, 0.03063098],\n",
       "       [0.75066309, 0.24933691],\n",
       "       [0.91000461, 0.08999539],\n",
       "       [0.6353648 , 0.3646352 ],\n",
       "       [0.12838938, 0.87161062],\n",
       "       [0.91836404, 0.08163596],\n",
       "       [0.96606212, 0.03393788],\n",
       "       [0.29080331, 0.70919669],\n",
       "       [0.89167949, 0.10832051],\n",
       "       [0.77015134, 0.22984866],\n",
       "       [0.92872675, 0.07127325],\n",
       "       [0.99635267, 0.00364733],\n",
       "       [0.88921182, 0.11078818],\n",
       "       [0.97394083, 0.02605917],\n",
       "       [0.95582912, 0.04417088],\n",
       "       [0.95225597, 0.04774403],\n",
       "       [0.77743134, 0.22256866],\n",
       "       [0.29680963, 0.70319037],\n",
       "       [0.91109147, 0.08890853],\n",
       "       [0.14900055, 0.85099945],\n",
       "       [0.83970848, 0.16029152]])"
      ]
     },
     "execution_count": 30,
     "metadata": {},
     "output_type": "execute_result"
    }
   ],
   "source": [
    "log_reg.predict_proba(x_test)"
   ]
  },
  {
   "cell_type": "code",
   "execution_count": 31,
   "id": "1494d00f",
   "metadata": {},
   "outputs": [],
   "source": [
    "## Prediciting the probabilities of class 1\n",
    "probs=log_reg.predict_proba(x_test)[:, 1] # for all the records and column index 1 (ie., class 1)"
   ]
  },
  {
   "cell_type": "code",
   "execution_count": 32,
   "id": "47de01b9",
   "metadata": {},
   "outputs": [
    {
     "data": {
      "text/plain": [
       "array([0.17030659, 0.26584906, 0.32672668, 0.30571835, 0.11121102,\n",
       "       0.32979213, 0.17903725, 0.19591642, 0.40529592, 0.47221237,\n",
       "       0.12134839, 0.05114182, 0.3323633 , 0.89606268, 0.94351879,\n",
       "       0.24184814, 0.43728011, 0.08541805, 0.29144312, 0.01520397,\n",
       "       0.06397539, 0.67917538, 0.32803317, 0.03118209, 0.41457053,\n",
       "       0.3748164 , 0.33514982, 0.09482672, 0.0997417 , 0.1034435 ,\n",
       "       0.49084606, 0.63667322, 0.76730738, 0.25025928, 0.17907855,\n",
       "       0.03912214, 0.30513878, 0.0753325 , 0.10454975, 0.04522678,\n",
       "       0.17016381, 0.06761524, 0.25138736, 0.72594161, 0.27003195,\n",
       "       0.09108794, 0.08763225, 0.0108846 , 0.22491295, 0.44800837,\n",
       "       0.1832434 , 0.82309745, 0.29818447, 0.2137027 , 0.09159812,\n",
       "       0.03545089, 0.42802311, 0.04343733, 0.88254843, 0.13287757,\n",
       "       0.06339641, 0.20166576, 0.62593543, 0.62488364, 0.64263888,\n",
       "       0.68661196, 0.7789112 , 0.08601424, 0.04156164, 0.24790551,\n",
       "       0.14608101, 0.15223363, 0.84342288, 0.93121052, 0.43357707,\n",
       "       0.21803634, 0.20561128, 0.83630329, 0.36304275, 0.28323447,\n",
       "       0.52599438, 0.33099749, 0.01680579, 0.12154048, 0.65694907,\n",
       "       0.281766  , 0.29726852, 0.75979495, 0.11491703, 0.08072515,\n",
       "       0.97686969, 0.12694627, 0.09294819, 0.15895634, 0.13196471,\n",
       "       0.57406833, 0.15002766, 0.50487772, 0.27572128, 0.34578891,\n",
       "       0.07084001, 0.82211393, 0.13749787, 0.08771441, 0.04574164,\n",
       "       0.51125228, 0.22607597, 0.1497544 , 0.69441358, 0.06361192,\n",
       "       0.58783442, 0.30819954, 0.06115892, 0.67044096, 0.95794427,\n",
       "       0.72287776, 0.16570796, 0.40298587, 0.32208515, 0.21272585,\n",
       "       0.46642744, 0.43757502, 0.04625719, 0.19840696, 0.88965659,\n",
       "       0.9183927 , 0.07162583, 0.81622664, 0.44604738, 0.17272094,\n",
       "       0.67586097, 0.31654873, 0.0390574 , 0.07838251, 0.01197972,\n",
       "       0.11138884, 0.95034681, 0.14594375, 0.24779057, 0.16815513,\n",
       "       0.28361033, 0.05695125, 0.12509413, 0.7378468 , 0.12666744,\n",
       "       0.57651993, 0.34265317, 0.16368667, 0.54550289, 0.37989166,\n",
       "       0.83195955, 0.68349147, 0.92969324, 0.18132571, 0.86056017,\n",
       "       0.81319581, 0.26038161, 0.59076837, 0.10175932, 0.06899391,\n",
       "       0.77445619, 0.01817928, 0.69965422, 0.23153204, 0.12837809,\n",
       "       0.16947624, 0.79594369, 0.80644171, 0.44165669, 0.76977086,\n",
       "       0.1634671 , 0.03063098, 0.24933691, 0.08999539, 0.3646352 ,\n",
       "       0.87161062, 0.08163596, 0.03393788, 0.70919669, 0.10832051,\n",
       "       0.22984866, 0.07127325, 0.00364733, 0.11078818, 0.02605917,\n",
       "       0.04417088, 0.04774403, 0.22256866, 0.70319037, 0.08890853,\n",
       "       0.85099945, 0.16029152])"
      ]
     },
     "execution_count": 32,
     "metadata": {},
     "output_type": "execute_result"
    }
   ],
   "source": [
    "probs#probabilities of class 1"
   ]
  },
  {
   "cell_type": "code",
   "execution_count": 44,
   "id": "5ce9c3dc",
   "metadata": {},
   "outputs": [],
   "source": [
    "## Defining the threshold limit\n",
    "def predict_threshold (model,X_test,thresholds):\n",
    "    return np.where(model.predict_proba(X_test)[:,1]>thr, 1, 0)\n",
    "\n",
    "## if the given condition is true, return '1' else return '0'"
   ]
  },
  {
   "cell_type": "code",
   "execution_count": 45,
   "id": "645f5c08",
   "metadata": {},
   "outputs": [
    {
     "data": {
      "text/plain": [
       "array([0, 0, 0, 0, 0, 0, 0, 0, 0, 0, 0, 0, 0, 0, 1, 0, 0, 0, 0, 0, 0, 0,\n",
       "       0, 0, 0, 0, 0, 0, 0, 0, 0, 0, 0, 0, 0, 0, 0, 0, 0, 0, 0, 0, 0, 0,\n",
       "       0, 0, 0, 0, 0, 0, 0, 0, 0, 0, 0, 0, 0, 0, 0, 0, 0, 0, 0, 0, 0, 0,\n",
       "       0, 0, 0, 0, 0, 0, 0, 1, 0, 0, 0, 0, 0, 0, 0, 0, 0, 0, 0, 0, 0, 0,\n",
       "       0, 0, 1, 0, 0, 0, 0, 0, 0, 0, 0, 0, 0, 0, 0, 0, 0, 0, 0, 0, 0, 0,\n",
       "       0, 0, 0, 0, 1, 0, 0, 0, 0, 0, 0, 0, 0, 0, 0, 1, 0, 0, 0, 0, 0, 0,\n",
       "       0, 0, 0, 0, 1, 0, 0, 0, 0, 0, 0, 0, 0, 0, 0, 0, 0, 0, 0, 0, 1, 0,\n",
       "       0, 0, 0, 0, 0, 0, 0, 0, 0, 0, 0, 0, 0, 0, 0, 0, 0, 0, 0, 0, 0, 0,\n",
       "       0, 0, 0, 0, 0, 0, 0, 0, 0, 0, 0, 0, 0, 0, 0, 0])"
      ]
     },
     "execution_count": 45,
     "metadata": {},
     "output_type": "execute_result"
    }
   ],
   "source": [
    "#model - log_reg, X_test -> x_test, threshold -> thr\n",
    "np.where(log_reg.predict_proba(x_test)[:,1]>thr, 1, 0) "
   ]
  },
  {
   "cell_type": "code",
   "execution_count": 39,
   "id": "7f892fdf",
   "metadata": {},
   "outputs": [
    {
     "name": "stdout",
     "output_type": "stream",
     "text": [
      "Threshold : 0.0\n",
      "[[  0 125]\n",
      " [  0  67]]\n",
      "Threshold : 0.1\n",
      "[[45 80]\n",
      " [ 1 66]]\n",
      "Threshold : 0.2\n",
      "[[75 50]\n",
      " [ 9 58]]\n",
      "Threshold : 0.30000000000000004\n",
      "[[94 31]\n",
      " [16 51]]\n",
      "Threshold : 0.4\n",
      "[[101  24]\n",
      " [ 26  41]]\n",
      "Threshold : 0.5\n",
      "[[110  15]\n",
      " [ 30  37]]\n",
      "Threshold : 0.6000000000000001\n",
      "[[115  10]\n",
      " [ 33  34]]\n",
      "Threshold : 0.7000000000000001\n",
      "[[120   5]\n",
      " [ 40  27]]\n",
      "Threshold : 0.8\n",
      "[[122   3]\n",
      " [ 49  18]]\n",
      "Threshold : 0.9\n",
      "[[124   1]\n",
      " [ 61   6]]\n"
     ]
    }
   ],
   "source": [
    "import numpy as np\n",
    "from sklearn.metrics import confusion_matrix\n",
    "\n",
    "for thr in np.arange(0,1.0,0.1):# it will create array from range 0 to 1 with step 0.1\n",
    "    y_predict = predict_threshold(log_reg,x_test,thr)# it will check result  for  each threshold from 0 to 1\n",
    "    print(\"Threshold :\",thr)#printing threshold\n",
    "    print(confusion_matrix(y_test,y_predict))# confusion matrix for each prediction"
   ]
  },
  {
   "cell_type": "code",
   "execution_count": 40,
   "id": "c2d9a6ac",
   "metadata": {},
   "outputs": [],
   "source": [
    "## visualizing the roc plot\n",
    "def plot_roc_curve(fpr, tpr):# function to plot roc curve\n",
    "    plt.plot(fpr, tpr, color='orange', label='ROC')#line plot between fpr and tpr\n",
    "    plt.plot([0, 1], [0, 1], color='darkblue', linestyle='--')\n",
    "    plt.xlabel('False Positive Rate')# assigning name to  x axis\n",
    "    plt.ylabel('True Positive Rate')# assigning name to y axis\n",
    "    plt.title('Receiver Operating Characteristic (ROC) Curve')#assigning name to curve  \n",
    "    plt.legend()#area describing the elements of the graph\n",
    "    plt.show()#to show graph without location"
   ]
  },
  {
   "cell_type": "code",
   "execution_count": 41,
   "id": "b6a42c0d",
   "metadata": {},
   "outputs": [
    {
     "name": "stdout",
     "output_type": "stream",
     "text": [
      "AUC: 0.84\n"
     ]
    }
   ],
   "source": [
    "from sklearn.metrics import roc_auc_score,roc_curve ## used to compare multiple models\n",
    "\n",
    "auc = roc_auc_score(y_test, probs) #roc curve \n",
    "print('AUC: %.2f' % auc)"
   ]
  },
  {
   "cell_type": "code",
   "execution_count": 42,
   "id": "92e779a9",
   "metadata": {},
   "outputs": [],
   "source": [
    "fpr, tpr, thresholds = roc_curve(y_test, probs)\n",
    "# it will return \n",
    "#Increasing false positive rates such that element i is the false positive rate of predictions with score >= thresholds[i].\n",
    "#Increasing true positive rates such that element i is the true positive rate of predictions with score >= thresholds[i].\n",
    "#Decreasing thresholds on the decision function used to compute fpr and tpr"
   ]
  },
  {
   "cell_type": "code",
   "execution_count": 43,
   "id": "307f05db",
   "metadata": {},
   "outputs": [
    {
     "data": {
      "image/png": "[encoded data removed]",
      "text/plain": [
       "<Figure size 432x288 with 1 Axes>"
      ]
     },
     "metadata": {
      "needs_background": "light"
     },
     "output_type": "display_data"
    }
   ],
   "source": [
    "import matplotlib.pyplot as plt\n",
    "plot_roc_curve(fpr, tpr)#plotting ruc curve"
   ]
  },
  {
   "cell_type": "markdown",
   "id": "5bc33031",
   "metadata": {},
   "source": [
    "### What is the significance of Roc curve and AUC?\n",
    "In real life, we create various models using different algorithms that we can use for classification purpose. We use AUC to determine which model is the best one to use for a given dataset. Suppose we have created Logistic regression, SVM as well as a clustering model for classification purpose. We will calculate AUC for all the models seperately. The model with highest AUC value will be the best model to use."
   ]
  },
  {
   "cell_type": "markdown",
   "id": "5818a24b",
   "metadata": {},
   "source": [
    "### Advantages of Logisitic Regression\n",
    "- It is very simple and easy to implement.\n",
    "- The output is more informative than other classification algorithms\n",
    "- It expresses the relationship between independent and dependent variables\n",
    "- Very effective with linearly seperable data\n",
    "### Disadvantages of Logisitic Regression\n",
    "- Not effective with data which are not linearly seperable\n",
    "- Not as powerful as other classification models\n",
    "- Multiclass classifications are much easier to do with other algorithms than logisitic regression\n",
    "- It can only predict categorical outcomes"
   ]
  },
  {
   "cell_type": "markdown",
   "id": "5cd4806e",
   "metadata": {},
   "source": [
    "# Multiclass classification"
   ]
  },
  {
   "cell_type": "code",
   "execution_count": 59,
   "id": "a0d99ec4",
   "metadata": {
    "scrolled": true
   },
   "outputs": [],
   "source": [
    "data=pd.read_csv('iris.csv')# loading another dataset for multiclass classification"
   ]
  },
  {
   "cell_type": "code",
   "execution_count": 60,
   "id": "a4a14724",
   "metadata": {
    "scrolled": true
   },
   "outputs": [
    {
     "data": {
      "text/html": [
       "<div>\n",
       "<style scoped>\n",
       "    .dataframe tbody tr th:only-of-type {\n",
       "        vertical-align: middle;\n",
       "    }\n",
       "\n",
       "    .dataframe tbody tr th {\n",
       "        vertical-align: top;\n",
       "    }\n",
       "\n",
       "    .dataframe thead th {\n",
       "        text-align: right;\n",
       "    }\n",
       "</style>\n",
       "<table border=\"1\" class=\"dataframe\">\n",
       "  <thead>\n",
       "    <tr style=\"text-align: right;\">\n",
       "      <th></th>\n",
       "      <th>Id</th>\n",
       "      <th>SepalLengthCm</th>\n",
       "      <th>SepalWidthCm</th>\n",
       "      <th>PetalLengthCm</th>\n",
       "      <th>PetalWidthCm</th>\n",
       "      <th>Species</th>\n",
       "    </tr>\n",
       "  </thead>\n",
       "  <tbody>\n",
       "    <tr>\n",
       "      <th>0</th>\n",
       "      <td>1</td>\n",
       "      <td>5.1</td>\n",
       "      <td>3.5</td>\n",
       "      <td>1.4</td>\n",
       "      <td>0.2</td>\n",
       "      <td>Iris-setosa</td>\n",
       "    </tr>\n",
       "    <tr>\n",
       "      <th>1</th>\n",
       "      <td>2</td>\n",
       "      <td>4.9</td>\n",
       "      <td>3.0</td>\n",
       "      <td>1.4</td>\n",
       "      <td>0.2</td>\n",
       "      <td>Iris-setosa</td>\n",
       "    </tr>\n",
       "    <tr>\n",
       "      <th>2</th>\n",
       "      <td>3</td>\n",
       "      <td>4.7</td>\n",
       "      <td>3.2</td>\n",
       "      <td>1.3</td>\n",
       "      <td>0.2</td>\n",
       "      <td>Iris-setosa</td>\n",
       "    </tr>\n",
       "    <tr>\n",
       "      <th>3</th>\n",
       "      <td>4</td>\n",
       "      <td>4.6</td>\n",
       "      <td>3.1</td>\n",
       "      <td>1.5</td>\n",
       "      <td>0.2</td>\n",
       "      <td>Iris-setosa</td>\n",
       "    </tr>\n",
       "    <tr>\n",
       "      <th>4</th>\n",
       "      <td>5</td>\n",
       "      <td>5.0</td>\n",
       "      <td>3.6</td>\n",
       "      <td>1.4</td>\n",
       "      <td>0.2</td>\n",
       "      <td>Iris-setosa</td>\n",
       "    </tr>\n",
       "  </tbody>\n",
       "</table>\n",
       "</div>"
      ],
      "text/plain": [
       "   Id  SepalLengthCm  SepalWidthCm  PetalLengthCm  PetalWidthCm      Species\n",
       "0   1            5.1           3.5            1.4           0.2  Iris-setosa\n",
       "1   2            4.9           3.0            1.4           0.2  Iris-setosa\n",
       "2   3            4.7           3.2            1.3           0.2  Iris-setosa\n",
       "3   4            4.6           3.1            1.5           0.2  Iris-setosa\n",
       "4   5            5.0           3.6            1.4           0.2  Iris-setosa"
      ]
     },
     "execution_count": 60,
     "metadata": {},
     "output_type": "execute_result"
    }
   ],
   "source": [
    "data.head()# first 5 rows"
   ]
  },
  {
   "cell_type": "code",
   "execution_count": 61,
   "id": "24003821",
   "metadata": {},
   "outputs": [],
   "source": [
    "X=data.loc[:,['SepalLengthCm', 'SepalWidthCm', 'PetalLengthCm', 'PetalWidthCm']]#independent variable \n",
    "y=data.Species#dependent variable"
   ]
  },
  {
   "cell_type": "code",
   "execution_count": 62,
   "id": "368360be",
   "metadata": {},
   "outputs": [
    {
     "data": {
      "text/plain": [
       "0         Iris-setosa\n",
       "1         Iris-setosa\n",
       "2         Iris-setosa\n",
       "3         Iris-setosa\n",
       "4         Iris-setosa\n",
       "            ...      \n",
       "145    Iris-virginica\n",
       "146    Iris-virginica\n",
       "147    Iris-virginica\n",
       "148    Iris-virginica\n",
       "149    Iris-virginica\n",
       "Name: Species, Length: 150, dtype: object"
      ]
     },
     "execution_count": 62,
     "metadata": {},
     "output_type": "execute_result"
    }
   ],
   "source": [
    "y#dependent variable"
   ]
  },
  {
   "cell_type": "code",
   "execution_count": 63,
   "id": "a994df15",
   "metadata": {},
   "outputs": [],
   "source": [
    "X_train,X_test,y_train,y_test=train_test_split(X,y,random_state=42)# training and testing  data"
   ]
  },
  {
   "cell_type": "code",
   "execution_count": 64,
   "id": "3ccf09bd",
   "metadata": {},
   "outputs": [],
   "source": [
    "LR=LogisticRegression(multi_class='ovr')# logistic regression for multiclass classification ovr-> one vs rest"
   ]
  },
  {
   "cell_type": "code",
   "execution_count": 65,
   "id": "701cbcec",
   "metadata": {},
   "outputs": [
    {
     "data": {
      "text/plain": [
       "LogisticRegression(multi_class='ovr')"
      ]
     },
     "execution_count": 65,
     "metadata": {},
     "output_type": "execute_result"
    }
   ],
   "source": [
    "LR.fit(X_train,y_train)#  training model"
   ]
  },
  {
   "cell_type": "code",
   "execution_count": 66,
   "id": "47ad610b",
   "metadata": {},
   "outputs": [],
   "source": [
    "y_hat=LR.predict(X_test)# predicting the results"
   ]
  },
  {
   "cell_type": "code",
   "execution_count": 67,
   "id": "54551f31",
   "metadata": {},
   "outputs": [
    {
     "data": {
      "text/html": [
       "<div>\n",
       "<style scoped>\n",
       "    .dataframe tbody tr th:only-of-type {\n",
       "        vertical-align: middle;\n",
       "    }\n",
       "\n",
       "    .dataframe tbody tr th {\n",
       "        vertical-align: top;\n",
       "    }\n",
       "\n",
       "    .dataframe thead th {\n",
       "        text-align: right;\n",
       "    }\n",
       "</style>\n",
       "<table border=\"1\" class=\"dataframe\">\n",
       "  <thead>\n",
       "    <tr style=\"text-align: right;\">\n",
       "      <th>col_0</th>\n",
       "      <th>Iris-setosa</th>\n",
       "      <th>Iris-versicolor</th>\n",
       "      <th>Iris-virginica</th>\n",
       "    </tr>\n",
       "    <tr>\n",
       "      <th>Species</th>\n",
       "      <th></th>\n",
       "      <th></th>\n",
       "      <th></th>\n",
       "    </tr>\n",
       "  </thead>\n",
       "  <tbody>\n",
       "    <tr>\n",
       "      <th>Iris-setosa</th>\n",
       "      <td>15</td>\n",
       "      <td>0</td>\n",
       "      <td>0</td>\n",
       "    </tr>\n",
       "    <tr>\n",
       "      <th>Iris-versicolor</th>\n",
       "      <td>0</td>\n",
       "      <td>10</td>\n",
       "      <td>1</td>\n",
       "    </tr>\n",
       "    <tr>\n",
       "      <th>Iris-virginica</th>\n",
       "      <td>0</td>\n",
       "      <td>0</td>\n",
       "      <td>12</td>\n",
       "    </tr>\n",
       "  </tbody>\n",
       "</table>\n",
       "</div>"
      ],
      "text/plain": [
       "col_0            Iris-setosa  Iris-versicolor  Iris-virginica\n",
       "Species                                                      \n",
       "Iris-setosa               15                0               0\n",
       "Iris-versicolor            0               10               1\n",
       "Iris-virginica             0                0              12"
      ]
     },
     "execution_count": 67,
     "metadata": {},
     "output_type": "execute_result"
    }
   ],
   "source": [
    "pd.crosstab(y_test,y_hat) # confusion matrix "
   ]
  },
  {
   "cell_type": "code",
   "execution_count": 68,
   "id": "db5743dd",
   "metadata": {},
   "outputs": [
    {
     "data": {
      "text/plain": [
       "0.9736842105263158"
      ]
     },
     "execution_count": 68,
     "metadata": {},
     "output_type": "execute_result"
    }
   ],
   "source": [
    "# Evaluating the model\n",
    "\n",
    "from sklearn.metrics import accuracy_score,auc, confusion_matrix,precision_score,recall_score,f1_score,classification_report\n",
    "#checking recall \n",
    "recall=recall_score(y_test,y_hat,average='weighted') # weighted: makes sure that \n",
    "recall"
   ]
  },
  {
   "cell_type": "code",
   "execution_count": 69,
   "id": "57338b9e",
   "metadata": {},
   "outputs": [
    {
     "data": {
      "text/plain": [
       "0.9757085020242916"
      ]
     },
     "execution_count": 69,
     "metadata": {},
     "output_type": "execute_result"
    }
   ],
   "source": [
    "precision=precision_score(y_test,y_hat,average='weighted')# checking precision\n",
    "precision"
   ]
  },
  {
   "cell_type": "code",
   "execution_count": 70,
   "id": "959bc3cd",
   "metadata": {},
   "outputs": [
    {
     "name": "stdout",
     "output_type": "stream",
     "text": [
      "                 precision    recall  f1-score   support\n",
      "\n",
      "    Iris-setosa       1.00      1.00      1.00        15\n",
      "Iris-versicolor       1.00      0.91      0.95        11\n",
      " Iris-virginica       0.92      1.00      0.96        12\n",
      "\n",
      "       accuracy                           0.97        38\n",
      "      macro avg       0.97      0.97      0.97        38\n",
      "   weighted avg       0.98      0.97      0.97        38\n",
      "\n"
     ]
    }
   ],
   "source": [
    "print(classification_report(y_test,y_hat))#recall,precision,f1 scores and accuracy"
   ]
  },
  {
   "cell_type": "code",
   "execution_count": 71,
   "id": "49c19977",
   "metadata": {},
   "outputs": [
    {
     "data": {
      "text/plain": [
       "'C:\\\\Users\\\\MUSADDIQ KHAN\\\\Logistic Regression'"
      ]
     },
     "execution_count": 71,
     "metadata": {},
     "output_type": "execute_result"
    }
   ],
   "source": [
    "pwd"
   ]
  },
  {
   "cell_type": "code",
   "execution_count": null,
   "id": "516e1ef6",
   "metadata": {},
   "outputs": [],
   "source": []
  }
 ],
 "metadata": {
  "kernelspec": {
   "display_name": "Python 3 (ipykernel)",
   "language": "python",
   "name": "python3"
  },
  "language_info": {
   "codemirror_mode": {
    "name": "ipython",
    "version": 3
   },
   "file_extension": ".py",
   "mimetype": "text/x-python",
   "name": "python",
   "nbconvert_exporter": "python",
   "pygments_lexer": "ipython3",
   "version": "3.9.7"
  }
 },
 "nbformat": 4,
 "nbformat_minor": 5
}
